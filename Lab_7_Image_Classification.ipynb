{
  "nbformat": 4,
  "nbformat_minor": 0,
  "metadata": {
    "colab": {
      "name": "Lab 7 - Image Classification.ipynb",
      "version": "0.3.2",
      "provenance": [],
      "toc_visible": true,
      "include_colab_link": true
    },
    "kernelspec": {
      "name": "python3",
      "display_name": "Python 3"
    }
  },
  "cells": [
    {
      "cell_type": "markdown",
      "metadata": {
        "id": "view-in-github",
        "colab_type": "text"
      },
      "source": [
        "<a href=\"https://colab.research.google.com/github/aakashv000/Machine-Learning-Lab-CS3103/blob/master/Lab_7_Image_Classification.ipynb\" target=\"_parent\"><img src=\"https://colab.research.google.com/assets/colab-badge.svg\" alt=\"Open In Colab\"/></a>"
      ]
    },
    {
      "metadata": {
        "id": "IJnQNuM3auFa",
        "colab_type": "text"
      },
      "cell_type": "markdown",
      "source": [
        "# Getting and Processing dataset"
      ]
    },
    {
      "metadata": {
        "id": "ick8HEgwqzLe",
        "colab_type": "text"
      },
      "cell_type": "markdown",
      "source": [
        "## Organizing dataset"
      ]
    },
    {
      "metadata": {
        "id": "W9LrQqFzcnQ3",
        "colab_type": "code",
        "outputId": "ab9c1989-66c1-4d14-8ce2-c62715ddb72f",
        "colab": {
          "base_uri": "https://localhost:8080/",
          "height": 33
        }
      },
      "cell_type": "code",
      "source": [
        "! ls"
      ],
      "execution_count": 49,
      "outputs": [
        {
          "output_type": "stream",
          "text": [
            "dataset  sample_data\n"
          ],
          "name": "stdout"
        }
      ]
    },
    {
      "metadata": {
        "id": "ExIF5H_Cd7tb",
        "colab_type": "code",
        "outputId": "9c0906ae-6b88-4173-cad7-d48cceeaab6d",
        "colab": {
          "base_uri": "https://localhost:8080/",
          "height": 50
        }
      },
      "cell_type": "code",
      "source": [
        "! mkdir dataset\n",
        "! ls"
      ],
      "execution_count": 50,
      "outputs": [
        {
          "output_type": "stream",
          "text": [
            "mkdir: cannot create directory ‘dataset’: File exists\n",
            "dataset  sample_data\n"
          ],
          "name": "stdout"
        }
      ]
    },
    {
      "metadata": {
        "id": "HHA_o91Kd-cy",
        "colab_type": "code",
        "outputId": "008ff896-7233-45ff-ab86-5fce1cb1d533",
        "colab": {
          "base_uri": "https://localhost:8080/",
          "height": 50
        }
      },
      "cell_type": "code",
      "source": [
        "! mv *.jpg dataset\n",
        "! ls"
      ],
      "execution_count": 51,
      "outputs": [
        {
          "output_type": "stream",
          "text": [
            "mv: cannot stat '*.jpg': No such file or directory\n",
            "dataset  sample_data\n"
          ],
          "name": "stdout"
        }
      ]
    },
    {
      "metadata": {
        "id": "ft1E_RTJfCNZ",
        "colab_type": "code",
        "colab": {}
      },
      "cell_type": "code",
      "source": [
        "! cd dataset"
      ],
      "execution_count": 0,
      "outputs": []
    },
    {
      "metadata": {
        "id": "pmAAI3ALfYMM",
        "colab_type": "code",
        "outputId": "ef9d4556-9c88-4454-ed1e-8bef8d9cb536",
        "colab": {
          "base_uri": "https://localhost:8080/",
          "height": 33
        }
      },
      "cell_type": "code",
      "source": [
        "! ls"
      ],
      "execution_count": 53,
      "outputs": [
        {
          "output_type": "stream",
          "text": [
            "dataset  sample_data\n"
          ],
          "name": "stdout"
        }
      ]
    },
    {
      "metadata": {
        "id": "pxYqO_djfnXJ",
        "colab_type": "code",
        "outputId": "25a19e84-81df-4b87-9928-05577b6c942b",
        "colab": {
          "base_uri": "https://localhost:8080/",
          "height": 33
        }
      },
      "cell_type": "code",
      "source": [
        "! mv dataset/IMG_20190307_141912.jpg dataset/remote_1.jpg"
      ],
      "execution_count": 54,
      "outputs": [
        {
          "output_type": "stream",
          "text": [
            "mv: cannot stat 'dataset/IMG_20190307_141912.jpg': No such file or directory\n"
          ],
          "name": "stdout"
        }
      ]
    },
    {
      "metadata": {
        "id": "DHaU_5vZqseY",
        "colab_type": "text"
      },
      "cell_type": "markdown",
      "source": [
        "## Open image"
      ]
    },
    {
      "metadata": {
        "id": "5lK86bcjazro",
        "colab_type": "code",
        "colab": {}
      },
      "cell_type": "code",
      "source": [
        "from PIL import Image\n",
        "import numpy as np"
      ],
      "execution_count": 0,
      "outputs": []
    },
    {
      "metadata": {
        "id": "eTESmdEkfAJH",
        "colab_type": "code",
        "outputId": "3018527f-ef79-45b1-c5f3-252e4cf5c9b2",
        "colab": {
          "base_uri": "https://localhost:8080/",
          "height": 66
        }
      },
      "cell_type": "code",
      "source": [
        "image = Image.open('dataset/remote_1.jpg')\n",
        "image.size, image, np.shape(image)"
      ],
      "execution_count": 56,
      "outputs": [
        {
          "output_type": "execute_result",
          "data": {
            "text/plain": [
              "((1600, 900),\n",
              " <PIL.JpegImagePlugin.JpegImageFile image mode=RGB size=1600x900 at 0x7FE41E9E9160>,\n",
              " (900, 1600, 3))"
            ]
          },
          "metadata": {
            "tags": []
          },
          "execution_count": 56
        }
      ]
    },
    {
      "metadata": {
        "id": "b7kNsY42p_dH",
        "colab_type": "text"
      },
      "cell_type": "markdown",
      "source": [
        "## Convert to Grayscale"
      ]
    },
    {
      "metadata": {
        "id": "ald2VJ3XqDAy",
        "colab_type": "code",
        "outputId": "30c29ac7-ea12-4302-cbe6-ed8f6825427c",
        "colab": {
          "base_uri": "https://localhost:8080/",
          "height": 66
        }
      },
      "cell_type": "code",
      "source": [
        "# image = image.convert('1')    # bilevel\n",
        "image = image.convert('L')    # grayscale\n",
        "image.save('dataset/remote_1_gray.jpg')\n",
        "\n",
        "image.size, image, np.shape(image)"
      ],
      "execution_count": 57,
      "outputs": [
        {
          "output_type": "execute_result",
          "data": {
            "text/plain": [
              "((1600, 900),\n",
              " <PIL.Image.Image image mode=L size=1600x900 at 0x7FE41E9E9780>,\n",
              " (900, 1600))"
            ]
          },
          "metadata": {
            "tags": []
          },
          "execution_count": 57
        }
      ]
    },
    {
      "metadata": {
        "id": "gAHPQzsbguK_",
        "colab_type": "text"
      },
      "cell_type": "markdown",
      "source": [
        "## Resize image"
      ]
    },
    {
      "metadata": {
        "id": "ECgETFRcgzfj",
        "colab_type": "code",
        "outputId": "7e90b0aa-e525-41ea-872e-32842ab7ac85",
        "colab": {
          "base_uri": "https://localhost:8080/",
          "height": 66
        }
      },
      "cell_type": "code",
      "source": [
        "WIDTH = 100\n",
        "HEIGHT = 75\n",
        "\n",
        "percent = WIDTH / float(image.size[0])\n",
        "height = int(image.size[1] * percent)\n",
        "# image = image.resize((WIDTH, height))\n",
        "image = image.resize((WIDTH, HEIGHT))\n",
        "image.save('dataset/remote_1_resized.jpg')\n",
        "\n",
        "image.size, image, np.shape(image)"
      ],
      "execution_count": 58,
      "outputs": [
        {
          "output_type": "execute_result",
          "data": {
            "text/plain": [
              "((100, 75),\n",
              " <PIL.Image.Image image mode=L size=100x75 at 0x7FE41E9E9898>,\n",
              " (75, 100))"
            ]
          },
          "metadata": {
            "tags": []
          },
          "execution_count": 58
        }
      ]
    },
    {
      "metadata": {
        "id": "A0nu-AdBFoOC",
        "colab_type": "text"
      },
      "cell_type": "markdown",
      "source": [
        "## Convert Image to NumPy array"
      ]
    },
    {
      "metadata": {
        "id": "qs3odAj5Fq4O",
        "colab_type": "code",
        "colab": {
          "base_uri": "https://localhost:8080/",
          "height": 33
        },
        "outputId": "d7c0ec70-f53a-45f2-fa06-8204187ad8d7"
      },
      "cell_type": "code",
      "source": [
        "img = np.array(image)\n",
        "\n",
        "img.shape"
      ],
      "execution_count": 59,
      "outputs": [
        {
          "output_type": "execute_result",
          "data": {
            "text/plain": [
              "(75, 100)"
            ]
          },
          "metadata": {
            "tags": []
          },
          "execution_count": 59
        }
      ]
    },
    {
      "metadata": {
        "id": "liNcn-jVGZrh",
        "colab_type": "text"
      },
      "cell_type": "markdown",
      "source": [
        "## Extract HOG features"
      ]
    },
    {
      "metadata": {
        "id": "EOLOPnPQGcZy",
        "colab_type": "code",
        "colab": {}
      },
      "cell_type": "code",
      "source": [
        ""
      ],
      "execution_count": 0,
      "outputs": []
    }
  ]
}