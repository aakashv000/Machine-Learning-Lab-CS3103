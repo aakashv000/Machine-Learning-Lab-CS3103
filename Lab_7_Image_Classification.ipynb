{
  "nbformat": 4,
  "nbformat_minor": 0,
  "metadata": {
    "colab": {
      "name": "Lab 7 - Image Classification.ipynb",
      "version": "0.3.2",
      "provenance": [],
      "include_colab_link": true
    },
    "kernelspec": {
      "name": "python3",
      "display_name": "Python 3"
    }
  },
  "cells": [
    {
      "cell_type": "markdown",
      "metadata": {
        "id": "view-in-github",
        "colab_type": "text"
      },
      "source": [
        "<a href=\"https://colab.research.google.com/github/aakashv000/Machine-Learning-Lab-CS3103/blob/master/Lab_7_Image_Classification.ipynb\" target=\"_parent\"><img src=\"https://colab.research.google.com/assets/colab-badge.svg\" alt=\"Open In Colab\"/></a>"
      ]
    },
    {
      "metadata": {
        "id": "IJnQNuM3auFa",
        "colab_type": "text"
      },
      "cell_type": "markdown",
      "source": [
        "# Getting and Processing dataset"
      ]
    },
    {
      "metadata": {
        "id": "W9LrQqFzcnQ3",
        "colab_type": "code",
        "colab": {
          "base_uri": "https://localhost:8080/",
          "height": 33
        },
        "outputId": "1f21a918-c528-44ac-f179-0ea6dab4380a"
      },
      "cell_type": "code",
      "source": [
        "! ls"
      ],
      "execution_count": 17,
      "outputs": [
        {
          "output_type": "stream",
          "text": [
            "dataset  sample_data\n"
          ],
          "name": "stdout"
        }
      ]
    },
    {
      "metadata": {
        "id": "ExIF5H_Cd7tb",
        "colab_type": "code",
        "colab": {
          "base_uri": "https://localhost:8080/",
          "height": 50
        },
        "outputId": "d9a55221-163e-4ab2-e3ad-2056592d1833"
      },
      "cell_type": "code",
      "source": [
        "! mkdir dataset\n",
        "! ls"
      ],
      "execution_count": 18,
      "outputs": [
        {
          "output_type": "stream",
          "text": [
            "mkdir: cannot create directory ‘dataset’: File exists\n",
            "dataset  sample_data\n"
          ],
          "name": "stdout"
        }
      ]
    },
    {
      "metadata": {
        "id": "HHA_o91Kd-cy",
        "colab_type": "code",
        "colab": {
          "base_uri": "https://localhost:8080/",
          "height": 50
        },
        "outputId": "9da22671-7131-47ab-cf65-13a1ebabda1e"
      },
      "cell_type": "code",
      "source": [
        "! mv *.jpg dataset\n",
        "! ls"
      ],
      "execution_count": 19,
      "outputs": [
        {
          "output_type": "stream",
          "text": [
            "mv: cannot stat '*.jpg': No such file or directory\n",
            "dataset  sample_data\n"
          ],
          "name": "stdout"
        }
      ]
    },
    {
      "metadata": {
        "id": "ft1E_RTJfCNZ",
        "colab_type": "code",
        "colab": {}
      },
      "cell_type": "code",
      "source": [
        "! cd dataset"
      ],
      "execution_count": 0,
      "outputs": []
    },
    {
      "metadata": {
        "id": "pmAAI3ALfYMM",
        "colab_type": "code",
        "colab": {
          "base_uri": "https://localhost:8080/",
          "height": 33
        },
        "outputId": "d3f702bd-c09b-4611-a387-22ec8c33896c"
      },
      "cell_type": "code",
      "source": [
        "! ls"
      ],
      "execution_count": 21,
      "outputs": [
        {
          "output_type": "stream",
          "text": [
            "dataset  sample_data\n"
          ],
          "name": "stdout"
        }
      ]
    },
    {
      "metadata": {
        "id": "pxYqO_djfnXJ",
        "colab_type": "code",
        "colab": {
          "base_uri": "https://localhost:8080/",
          "height": 33
        },
        "outputId": "6f4e8ba9-ab9a-4a45-e185-30ffb0a14b4c"
      },
      "cell_type": "code",
      "source": [
        "! mv dataset/IMG_20190307_141912.jpg dataset/remote_1.jpg"
      ],
      "execution_count": 22,
      "outputs": [
        {
          "output_type": "stream",
          "text": [
            "mv: cannot stat 'dataset/IMG_20190307_141912.jpg': No such file or directory\n"
          ],
          "name": "stdout"
        }
      ]
    },
    {
      "metadata": {
        "id": "5lK86bcjazro",
        "colab_type": "code",
        "colab": {}
      },
      "cell_type": "code",
      "source": [
        "from PIL import Image"
      ],
      "execution_count": 0,
      "outputs": []
    },
    {
      "metadata": {
        "id": "eTESmdEkfAJH",
        "colab_type": "code",
        "colab": {
          "base_uri": "https://localhost:8080/",
          "height": 50
        },
        "outputId": "8d5327e2-5f7a-4058-f8ff-fa867092f107"
      },
      "cell_type": "code",
      "source": [
        "image = Image.open('dataset/remote_1.jpg')\n",
        "image.size, image"
      ],
      "execution_count": 24,
      "outputs": [
        {
          "output_type": "execute_result",
          "data": {
            "text/plain": [
              "((1600, 900),\n",
              " <PIL.JpegImagePlugin.JpegImageFile image mode=RGB size=1600x900 at 0x7F47616CC8D0>)"
            ]
          },
          "metadata": {
            "tags": []
          },
          "execution_count": 24
        }
      ]
    },
    {
      "metadata": {
        "id": "gAHPQzsbguK_",
        "colab_type": "text"
      },
      "cell_type": "markdown",
      "source": [
        "## Resize image"
      ]
    },
    {
      "metadata": {
        "id": "ECgETFRcgzfj",
        "colab_type": "code",
        "colab": {}
      },
      "cell_type": "code",
      "source": [
        "WIDTH = 40\n",
        "\n",
        "percent = WIDTH / float(image.size[0])\n",
        "height = int(image.size[1] * percent)\n",
        "image = image.resize((WIDTH, height))\n",
        "image.save('dataset/remote_1_resized.jpg')"
      ],
      "execution_count": 0,
      "outputs": []
    },
    {
      "metadata": {
        "id": "J3goEIyTlxiX",
        "colab_type": "code",
        "colab": {
          "base_uri": "https://localhost:8080/",
          "height": 33
        },
        "outputId": "e7a9e720-60ce-4ab9-887c-741d9ebea140"
      },
      "cell_type": "code",
      "source": [
        "image.size, image"
      ],
      "execution_count": 30,
      "outputs": [
        {
          "output_type": "execute_result",
          "data": {
            "text/plain": [
              "((40, 22), <PIL.Image.Image image mode=RGB size=40x22 at 0x7F47616CFE80>)"
            ]
          },
          "metadata": {
            "tags": []
          },
          "execution_count": 30
        }
      ]
    }
  ]
}