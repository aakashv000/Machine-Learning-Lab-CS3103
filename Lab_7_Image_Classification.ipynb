{
  "nbformat": 4,
  "nbformat_minor": 0,
  "metadata": {
    "colab": {
      "name": "Lab 7 - Image Classification.ipynb",
      "version": "0.3.2",
      "provenance": [],
      "include_colab_link": true
    },
    "kernelspec": {
      "name": "python3",
      "display_name": "Python 3"
    }
  },
  "cells": [
    {
      "cell_type": "markdown",
      "metadata": {
        "id": "view-in-github",
        "colab_type": "text"
      },
      "source": [
        "<a href=\"https://colab.research.google.com/github/aakashv000/Machine-Learning-Lab-CS3103/blob/master/Lab_7_Image_Classification.ipynb\" target=\"_parent\"><img src=\"https://colab.research.google.com/assets/colab-badge.svg\" alt=\"Open In Colab\"/></a>"
      ]
    },
    {
      "metadata": {
        "id": "IJnQNuM3auFa",
        "colab_type": "text"
      },
      "cell_type": "markdown",
      "source": [
        "# Getting and Processing dataset"
      ]
    },
    {
      "metadata": {
        "id": "ick8HEgwqzLe",
        "colab_type": "text"
      },
      "cell_type": "markdown",
      "source": [
        "## Organizing dataset"
      ]
    },
    {
      "metadata": {
        "id": "W9LrQqFzcnQ3",
        "colab_type": "code",
        "colab": {
          "base_uri": "https://localhost:8080/",
          "height": 33
        },
        "outputId": "2f164665-02a7-4e9f-8a76-9ac323c56754"
      },
      "cell_type": "code",
      "source": [
        "! ls"
      ],
      "execution_count": 41,
      "outputs": [
        {
          "output_type": "stream",
          "text": [
            "dataset  sample_data\n"
          ],
          "name": "stdout"
        }
      ]
    },
    {
      "metadata": {
        "id": "ExIF5H_Cd7tb",
        "colab_type": "code",
        "colab": {
          "base_uri": "https://localhost:8080/",
          "height": 50
        },
        "outputId": "a9f7b669-60aa-4b66-e9aa-7eb7d5d3b51a"
      },
      "cell_type": "code",
      "source": [
        "! mkdir dataset\n",
        "! ls"
      ],
      "execution_count": 42,
      "outputs": [
        {
          "output_type": "stream",
          "text": [
            "mkdir: cannot create directory ‘dataset’: File exists\n",
            "dataset  sample_data\n"
          ],
          "name": "stdout"
        }
      ]
    },
    {
      "metadata": {
        "id": "HHA_o91Kd-cy",
        "colab_type": "code",
        "colab": {
          "base_uri": "https://localhost:8080/",
          "height": 50
        },
        "outputId": "3fbfdf92-d786-4ea8-9aff-8ff87a8c020f"
      },
      "cell_type": "code",
      "source": [
        "! mv *.jpg dataset\n",
        "! ls"
      ],
      "execution_count": 43,
      "outputs": [
        {
          "output_type": "stream",
          "text": [
            "mv: cannot stat '*.jpg': No such file or directory\n",
            "dataset  sample_data\n"
          ],
          "name": "stdout"
        }
      ]
    },
    {
      "metadata": {
        "id": "ft1E_RTJfCNZ",
        "colab_type": "code",
        "colab": {}
      },
      "cell_type": "code",
      "source": [
        "! cd dataset"
      ],
      "execution_count": 0,
      "outputs": []
    },
    {
      "metadata": {
        "id": "pmAAI3ALfYMM",
        "colab_type": "code",
        "colab": {
          "base_uri": "https://localhost:8080/",
          "height": 33
        },
        "outputId": "39399ec8-73b8-450b-bb62-aec3001e1145"
      },
      "cell_type": "code",
      "source": [
        "! ls"
      ],
      "execution_count": 45,
      "outputs": [
        {
          "output_type": "stream",
          "text": [
            "dataset  sample_data\n"
          ],
          "name": "stdout"
        }
      ]
    },
    {
      "metadata": {
        "id": "pxYqO_djfnXJ",
        "colab_type": "code",
        "colab": {
          "base_uri": "https://localhost:8080/",
          "height": 33
        },
        "outputId": "56398fcd-cef4-4478-dae7-a93e5af0b105"
      },
      "cell_type": "code",
      "source": [
        "! mv dataset/IMG_20190307_141912.jpg dataset/remote_1.jpg"
      ],
      "execution_count": 46,
      "outputs": [
        {
          "output_type": "stream",
          "text": [
            "mv: cannot stat 'dataset/IMG_20190307_141912.jpg': No such file or directory\n"
          ],
          "name": "stdout"
        }
      ]
    },
    {
      "metadata": {
        "id": "DHaU_5vZqseY",
        "colab_type": "text"
      },
      "cell_type": "markdown",
      "source": [
        "## Open image"
      ]
    },
    {
      "metadata": {
        "id": "5lK86bcjazro",
        "colab_type": "code",
        "colab": {}
      },
      "cell_type": "code",
      "source": [
        "from PIL import Image\n",
        "import numpy as np"
      ],
      "execution_count": 0,
      "outputs": []
    },
    {
      "metadata": {
        "id": "eTESmdEkfAJH",
        "colab_type": "code",
        "colab": {
          "base_uri": "https://localhost:8080/",
          "height": 66
        },
        "outputId": "d604e633-c97b-425c-f4b8-ef84e7bafe83"
      },
      "cell_type": "code",
      "source": [
        "image = Image.open('dataset/remote_1.jpg')\n",
        "image.size, image, np.shape(image)"
      ],
      "execution_count": 78,
      "outputs": [
        {
          "output_type": "execute_result",
          "data": {
            "text/plain": [
              "((1600, 900),\n",
              " <PIL.JpegImagePlugin.JpegImageFile image mode=RGB size=1600x900 at 0x7F4761669240>,\n",
              " (900, 1600, 3))"
            ]
          },
          "metadata": {
            "tags": []
          },
          "execution_count": 78
        }
      ]
    },
    {
      "metadata": {
        "id": "b7kNsY42p_dH",
        "colab_type": "text"
      },
      "cell_type": "markdown",
      "source": [
        "## Convert to Grayscale"
      ]
    },
    {
      "metadata": {
        "id": "ald2VJ3XqDAy",
        "colab_type": "code",
        "colab": {
          "base_uri": "https://localhost:8080/",
          "height": 66
        },
        "outputId": "01ac7224-0b6b-4389-8891-e8bd5d5bd314"
      },
      "cell_type": "code",
      "source": [
        "# image = image.convert('1')    # bilevel\n",
        "image = image.convert('L')    # grayscale\n",
        "image.save('dataset/remote_1_gray.jpg')\n",
        "\n",
        "image.size, image, np.shape(image)"
      ],
      "execution_count": 79,
      "outputs": [
        {
          "output_type": "execute_result",
          "data": {
            "text/plain": [
              "((1600, 900),\n",
              " <PIL.Image.Image image mode=L size=1600x900 at 0x7F47616DEE80>,\n",
              " (900, 1600))"
            ]
          },
          "metadata": {
            "tags": []
          },
          "execution_count": 79
        }
      ]
    },
    {
      "metadata": {
        "id": "gAHPQzsbguK_",
        "colab_type": "text"
      },
      "cell_type": "markdown",
      "source": [
        "## Resize image"
      ]
    },
    {
      "metadata": {
        "id": "ECgETFRcgzfj",
        "colab_type": "code",
        "colab": {
          "base_uri": "https://localhost:8080/",
          "height": 66
        },
        "outputId": "3d59f26d-fc6a-4407-9876-9fb27968bbee"
      },
      "cell_type": "code",
      "source": [
        "WIDTH = 100\n",
        "HEIGHT = 75\n",
        "\n",
        "percent = WIDTH / float(image.size[0])\n",
        "height = int(image.size[1] * percent)\n",
        "# image = image.resize((WIDTH, height))\n",
        "image = image.resize((WIDTH, HEIGHT))\n",
        "image.save('dataset/remote_1_resized.jpg')\n",
        "\n",
        "image.size, image, np.shape(image)"
      ],
      "execution_count": 80,
      "outputs": [
        {
          "output_type": "execute_result",
          "data": {
            "text/plain": [
              "((100, 75),\n",
              " <PIL.Image.Image image mode=L size=100x75 at 0x7F47616DEB70>,\n",
              " (75, 100))"
            ]
          },
          "metadata": {
            "tags": []
          },
          "execution_count": 80
        }
      ]
    }
  ]
}