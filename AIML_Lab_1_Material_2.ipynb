{
  "nbformat": 4,
  "nbformat_minor": 0,
  "metadata": {
    "colab": {
      "name": "AIML Lab 1 Material 2.ipynb",
      "version": "0.3.2",
      "provenance": [],
      "collapsed_sections": [],
      "include_colab_link": true
    },
    "kernelspec": {
      "name": "python3",
      "display_name": "Python 3"
    }
  },
  "cells": [
    {
      "cell_type": "markdown",
      "metadata": {
        "id": "view-in-github",
        "colab_type": "text"
      },
      "source": [
        "<a href=\"https://colab.research.google.com/github/aakashv000/Machine-Learning-Lab-CS3103/blob/master/AIML_Lab_1_Material_2.ipynb\" target=\"_parent\"><img src=\"https://colab.research.google.com/assets/colab-badge.svg\" alt=\"Open In Colab\"/></a>"
      ]
    },
    {
      "metadata": {
        "id": "8b6YHPYqyipc",
        "colab_type": "code",
        "outputId": "fd5ac0cb-7f22-4be2-abf7-9449b358ae37",
        "colab": {
          "base_uri": "https://localhost:8080/",
          "height": 33
        }
      },
      "cell_type": "code",
      "source": [
        "! git clone https://github.com/jdwittenauer/ipython-notebooks.git"
      ],
      "execution_count": 491,
      "outputs": [
        {
          "output_type": "stream",
          "text": [
            "fatal: destination path 'ipython-notebooks' already exists and is not an empty directory.\n"
          ],
          "name": "stdout"
        }
      ]
    },
    {
      "metadata": {
        "id": "iUNNWYybTP53",
        "colab_type": "code",
        "colab": {}
      },
      "cell_type": "code",
      "source": [
        "# ! find ipyt*"
      ],
      "execution_count": 0,
      "outputs": []
    },
    {
      "metadata": {
        "id": "o4TJ-PGe2GkJ",
        "colab_type": "code",
        "colab": {}
      },
      "cell_type": "code",
      "source": [
        "# ! find ipython-notebooks"
      ],
      "execution_count": 0,
      "outputs": []
    },
    {
      "metadata": {
        "id": "6ndcok20zBRM",
        "colab_type": "code",
        "colab": {}
      },
      "cell_type": "code",
      "source": [
        "import numpy as np\n",
        "import pandas as pd\n",
        "import matplotlib.pyplot as plt\n",
        "%matplotlib inline"
      ],
      "execution_count": 0,
      "outputs": []
    },
    {
      "metadata": {
        "id": "5h-ZWfaIb5Rp",
        "colab_type": "text"
      },
      "cell_type": "markdown",
      "source": [
        "# Data 1"
      ]
    },
    {
      "metadata": {
        "id": "Pq414fiG2Btn",
        "colab_type": "code",
        "outputId": "69d0fbf8-56b8-490b-943b-82fafd6a9b86",
        "colab": {
          "base_uri": "https://localhost:8080/",
          "height": 197
        }
      },
      "cell_type": "code",
      "source": [
        "import os\n",
        "path = 'ipython-notebooks' + '/data/ex1data1.txt'\n",
        "data = pd.read_csv(path, header=None, names=['Population', 'Profit'])\n",
        "data.head()"
      ],
      "execution_count": 495,
      "outputs": [
        {
          "output_type": "execute_result",
          "data": {
            "text/html": [
              "<div>\n",
              "<style scoped>\n",
              "    .dataframe tbody tr th:only-of-type {\n",
              "        vertical-align: middle;\n",
              "    }\n",
              "\n",
              "    .dataframe tbody tr th {\n",
              "        vertical-align: top;\n",
              "    }\n",
              "\n",
              "    .dataframe thead th {\n",
              "        text-align: right;\n",
              "    }\n",
              "</style>\n",
              "<table border=\"1\" class=\"dataframe\">\n",
              "  <thead>\n",
              "    <tr style=\"text-align: right;\">\n",
              "      <th></th>\n",
              "      <th>Population</th>\n",
              "      <th>Profit</th>\n",
              "    </tr>\n",
              "  </thead>\n",
              "  <tbody>\n",
              "    <tr>\n",
              "      <th>0</th>\n",
              "      <td>6.1101</td>\n",
              "      <td>17.5920</td>\n",
              "    </tr>\n",
              "    <tr>\n",
              "      <th>1</th>\n",
              "      <td>5.5277</td>\n",
              "      <td>9.1302</td>\n",
              "    </tr>\n",
              "    <tr>\n",
              "      <th>2</th>\n",
              "      <td>8.5186</td>\n",
              "      <td>13.6620</td>\n",
              "    </tr>\n",
              "    <tr>\n",
              "      <th>3</th>\n",
              "      <td>7.0032</td>\n",
              "      <td>11.8540</td>\n",
              "    </tr>\n",
              "    <tr>\n",
              "      <th>4</th>\n",
              "      <td>5.8598</td>\n",
              "      <td>6.8233</td>\n",
              "    </tr>\n",
              "  </tbody>\n",
              "</table>\n",
              "</div>"
            ],
            "text/plain": [
              "   Population   Profit\n",
              "0      6.1101  17.5920\n",
              "1      5.5277   9.1302\n",
              "2      8.5186  13.6620\n",
              "3      7.0032  11.8540\n",
              "4      5.8598   6.8233"
            ]
          },
          "metadata": {
            "tags": []
          },
          "execution_count": 495
        }
      ]
    },
    {
      "metadata": {
        "id": "V_tzftM43PDl",
        "colab_type": "code",
        "outputId": "b5c87a84-d72a-4c48-c0cb-b79a681712fa",
        "colab": {
          "base_uri": "https://localhost:8080/",
          "height": 287
        }
      },
      "cell_type": "code",
      "source": [
        "data.describe()"
      ],
      "execution_count": 496,
      "outputs": [
        {
          "output_type": "execute_result",
          "data": {
            "text/html": [
              "<div>\n",
              "<style scoped>\n",
              "    .dataframe tbody tr th:only-of-type {\n",
              "        vertical-align: middle;\n",
              "    }\n",
              "\n",
              "    .dataframe tbody tr th {\n",
              "        vertical-align: top;\n",
              "    }\n",
              "\n",
              "    .dataframe thead th {\n",
              "        text-align: right;\n",
              "    }\n",
              "</style>\n",
              "<table border=\"1\" class=\"dataframe\">\n",
              "  <thead>\n",
              "    <tr style=\"text-align: right;\">\n",
              "      <th></th>\n",
              "      <th>Population</th>\n",
              "      <th>Profit</th>\n",
              "    </tr>\n",
              "  </thead>\n",
              "  <tbody>\n",
              "    <tr>\n",
              "      <th>count</th>\n",
              "      <td>97.000000</td>\n",
              "      <td>97.000000</td>\n",
              "    </tr>\n",
              "    <tr>\n",
              "      <th>mean</th>\n",
              "      <td>8.159800</td>\n",
              "      <td>5.839135</td>\n",
              "    </tr>\n",
              "    <tr>\n",
              "      <th>std</th>\n",
              "      <td>3.869884</td>\n",
              "      <td>5.510262</td>\n",
              "    </tr>\n",
              "    <tr>\n",
              "      <th>min</th>\n",
              "      <td>5.026900</td>\n",
              "      <td>-2.680700</td>\n",
              "    </tr>\n",
              "    <tr>\n",
              "      <th>25%</th>\n",
              "      <td>5.707700</td>\n",
              "      <td>1.986900</td>\n",
              "    </tr>\n",
              "    <tr>\n",
              "      <th>50%</th>\n",
              "      <td>6.589400</td>\n",
              "      <td>4.562300</td>\n",
              "    </tr>\n",
              "    <tr>\n",
              "      <th>75%</th>\n",
              "      <td>8.578100</td>\n",
              "      <td>7.046700</td>\n",
              "    </tr>\n",
              "    <tr>\n",
              "      <th>max</th>\n",
              "      <td>22.203000</td>\n",
              "      <td>24.147000</td>\n",
              "    </tr>\n",
              "  </tbody>\n",
              "</table>\n",
              "</div>"
            ],
            "text/plain": [
              "       Population     Profit\n",
              "count   97.000000  97.000000\n",
              "mean     8.159800   5.839135\n",
              "std      3.869884   5.510262\n",
              "min      5.026900  -2.680700\n",
              "25%      5.707700   1.986900\n",
              "50%      6.589400   4.562300\n",
              "75%      8.578100   7.046700\n",
              "max     22.203000  24.147000"
            ]
          },
          "metadata": {
            "tags": []
          },
          "execution_count": 496
        }
      ]
    },
    {
      "metadata": {
        "id": "TnjiYk3O3THt",
        "colab_type": "code",
        "outputId": "729539c1-0c94-45ca-b5d2-1a4483350851",
        "colab": {
          "base_uri": "https://localhost:8080/",
          "height": 513
        }
      },
      "cell_type": "code",
      "source": [
        "data.plot(kind='scatter', x='Population', y='Profit', figsize=(12,8))"
      ],
      "execution_count": 497,
      "outputs": [
        {
          "output_type": "execute_result",
          "data": {
            "text/plain": [
              "<matplotlib.axes._subplots.AxesSubplot at 0x7f24bb4282b0>"
            ]
          },
          "metadata": {
            "tags": []
          },
          "execution_count": 497
        },
        {
          "output_type": "display_data",
          "data": {
            "image/png": "[encoded data removed]",
            "text/plain": [
              "<matplotlib.figure.Figure at 0x7f24bb403390>"
            ]
          },
          "metadata": {
            "tags": []
          }
        }
      ]
    },
    {
      "metadata": {
        "id": "1fnmchjo2qXB",
        "colab_type": "code",
        "cellView": "both",
        "colab": {}
      },
      "cell_type": "code",
      "source": [
        "#@title Data 1 Changed\n",
        "# data = data * 1.3\n",
        "# data = data + [5, -3]\n",
        "# data.head()"
      ],
      "execution_count": 0,
      "outputs": []
    },
    {
      "metadata": {
        "id": "iYfLYuzm33eT",
        "colab_type": "code",
        "cellView": "both",
        "colab": {}
      },
      "cell_type": "code",
      "source": [
        "# data.describe()"
      ],
      "execution_count": 0,
      "outputs": []
    },
    {
      "metadata": {
        "colab_type": "code",
        "id": "0kxN0pfQ3W0q",
        "cellView": "both",
        "colab": {}
      },
      "cell_type": "code",
      "source": [
        "# data.plot(kind='scatter', x='Population', y='Profit', figsize=(12,8))"
      ],
      "execution_count": 0,
      "outputs": []
    },
    {
      "metadata": {
        "id": "qsjT1WvciuU6",
        "colab_type": "code",
        "colab": {}
      },
      "cell_type": "code",
      "source": [
        "# This adds (0, 0) in the Popu. vs Prof. plot so we can guess and verify m and c using the figure\n",
        "# row_data = data.iloc[:1, :].copy()\n",
        "# row_data.at[0, 'Population'] = 0\n",
        "# row_data.at[0, 'Profit'] = 0\n",
        "# print(row_data)\n",
        "\n",
        "# data = data.append(row_data, ignore_index=True)\n",
        "# print(data.head(), data.tail(), sep='\\n')"
      ],
      "execution_count": 0,
      "outputs": []
    },
    {
      "metadata": {
        "colab_type": "code",
        "cellView": "both",
        "id": "UL0rv-k5kHcd",
        "colab": {}
      },
      "cell_type": "code",
      "source": [
        "# data.describe()"
      ],
      "execution_count": 0,
      "outputs": []
    },
    {
      "metadata": {
        "colab_type": "code",
        "cellView": "both",
        "id": "9_1WB6kWkHci",
        "colab": {}
      },
      "cell_type": "code",
      "source": [
        "# data.plot(kind='scatter', x='Population', y='Profit', figsize=(12,8))"
      ],
      "execution_count": 0,
      "outputs": []
    },
    {
      "metadata": {
        "id": "IF4XCqTI3YqD",
        "colab_type": "code",
        "colab": {}
      },
      "cell_type": "code",
      "source": [
        "def computeCost(X, y, theta):\n",
        "    inner = np.power(((X * theta.T) - y), 2)\n",
        "#     return np.sum(inner) / (2 * len(X))        # actual formula\n",
        "    return np.sum(inner) / (len(X))"
      ],
      "execution_count": 0,
      "outputs": []
    },
    {
      "metadata": {
        "id": "rWuIV2Pt3c_F",
        "colab_type": "code",
        "colab": {}
      },
      "cell_type": "code",
      "source": [
        "data.insert(0, 'Ones', 1)    # to make matrix operations feasible"
      ],
      "execution_count": 0,
      "outputs": []
    },
    {
      "metadata": {
        "id": "T1-xfWr-3gir",
        "colab_type": "code",
        "colab": {
          "base_uri": "https://localhost:8080/",
          "height": 33
        },
        "outputId": "a544c670-653b-44c4-9a52-ddd7c02a2018"
      },
      "cell_type": "code",
      "source": [
        "# set X (training data) and y (target variable)\n",
        "cols = data.shape[1]\n",
        "X = data.iloc[:,0:cols-1]\n",
        "y = data.iloc[:,cols-1:cols]\n",
        "\n",
        "type(X)"
      ],
      "execution_count": 506,
      "outputs": [
        {
          "output_type": "execute_result",
          "data": {
            "text/plain": [
              "pandas.core.frame.DataFrame"
            ]
          },
          "metadata": {
            "tags": []
          },
          "execution_count": 506
        }
      ]
    },
    {
      "metadata": {
        "id": "uzJwuO1E3jk2",
        "colab_type": "code",
        "outputId": "54c59a6d-5c39-4f55-b39a-1fa306765644",
        "colab": {
          "base_uri": "https://localhost:8080/",
          "height": 197
        }
      },
      "cell_type": "code",
      "source": [
        "X.head()"
      ],
      "execution_count": 507,
      "outputs": [
        {
          "output_type": "execute_result",
          "data": {
            "text/html": [
              "<div>\n",
              "<style scoped>\n",
              "    .dataframe tbody tr th:only-of-type {\n",
              "        vertical-align: middle;\n",
              "    }\n",
              "\n",
              "    .dataframe tbody tr th {\n",
              "        vertical-align: top;\n",
              "    }\n",
              "\n",
              "    .dataframe thead th {\n",
              "        text-align: right;\n",
              "    }\n",
              "</style>\n",
              "<table border=\"1\" class=\"dataframe\">\n",
              "  <thead>\n",
              "    <tr style=\"text-align: right;\">\n",
              "      <th></th>\n",
              "      <th>Ones</th>\n",
              "      <th>Population</th>\n",
              "    </tr>\n",
              "  </thead>\n",
              "  <tbody>\n",
              "    <tr>\n",
              "      <th>0</th>\n",
              "      <td>1</td>\n",
              "      <td>6.1101</td>\n",
              "    </tr>\n",
              "    <tr>\n",
              "      <th>1</th>\n",
              "      <td>1</td>\n",
              "      <td>5.5277</td>\n",
              "    </tr>\n",
              "    <tr>\n",
              "      <th>2</th>\n",
              "      <td>1</td>\n",
              "      <td>8.5186</td>\n",
              "    </tr>\n",
              "    <tr>\n",
              "      <th>3</th>\n",
              "      <td>1</td>\n",
              "      <td>7.0032</td>\n",
              "    </tr>\n",
              "    <tr>\n",
              "      <th>4</th>\n",
              "      <td>1</td>\n",
              "      <td>5.8598</td>\n",
              "    </tr>\n",
              "  </tbody>\n",
              "</table>\n",
              "</div>"
            ],
            "text/plain": [
              "   Ones  Population\n",
              "0     1      6.1101\n",
              "1     1      5.5277\n",
              "2     1      8.5186\n",
              "3     1      7.0032\n",
              "4     1      5.8598"
            ]
          },
          "metadata": {
            "tags": []
          },
          "execution_count": 507
        }
      ]
    },
    {
      "metadata": {
        "id": "wiBqTqMy3mf2",
        "colab_type": "code",
        "outputId": "5e91a618-bfd5-499d-96df-de770049ef19",
        "colab": {
          "base_uri": "https://localhost:8080/",
          "height": 197
        }
      },
      "cell_type": "code",
      "source": [
        "y.head()"
      ],
      "execution_count": 508,
      "outputs": [
        {
          "output_type": "execute_result",
          "data": {
            "text/html": [
              "<div>\n",
              "<style scoped>\n",
              "    .dataframe tbody tr th:only-of-type {\n",
              "        vertical-align: middle;\n",
              "    }\n",
              "\n",
              "    .dataframe tbody tr th {\n",
              "        vertical-align: top;\n",
              "    }\n",
              "\n",
              "    .dataframe thead th {\n",
              "        text-align: right;\n",
              "    }\n",
              "</style>\n",
              "<table border=\"1\" class=\"dataframe\">\n",
              "  <thead>\n",
              "    <tr style=\"text-align: right;\">\n",
              "      <th></th>\n",
              "      <th>Profit</th>\n",
              "    </tr>\n",
              "  </thead>\n",
              "  <tbody>\n",
              "    <tr>\n",
              "      <th>0</th>\n",
              "      <td>17.5920</td>\n",
              "    </tr>\n",
              "    <tr>\n",
              "      <th>1</th>\n",
              "      <td>9.1302</td>\n",
              "    </tr>\n",
              "    <tr>\n",
              "      <th>2</th>\n",
              "      <td>13.6620</td>\n",
              "    </tr>\n",
              "    <tr>\n",
              "      <th>3</th>\n",
              "      <td>11.8540</td>\n",
              "    </tr>\n",
              "    <tr>\n",
              "      <th>4</th>\n",
              "      <td>6.8233</td>\n",
              "    </tr>\n",
              "  </tbody>\n",
              "</table>\n",
              "</div>"
            ],
            "text/plain": [
              "    Profit\n",
              "0  17.5920\n",
              "1   9.1302\n",
              "2  13.6620\n",
              "3  11.8540\n",
              "4   6.8233"
            ]
          },
          "metadata": {
            "tags": []
          },
          "execution_count": 508
        }
      ]
    },
    {
      "metadata": {
        "id": "gdkQPBf892b1",
        "colab_type": "code",
        "colab": {},
        "cellView": "both"
      },
      "cell_type": "code",
      "source": [
        "#@title\n",
        "# row_X = X.iloc[:1, :].copy()      ## copy() -> else the first row in the X itself gets altered by the new value\n",
        "# row_X.at[0, 'Population'] = 0\n",
        "# print(row_X)\n",
        "# X = X.append(row_X, ignore_index=True)\n",
        "# print(X.head())\n",
        "# print(X.tail())\n",
        "\n",
        "# row_y = y.iloc[:1, :].copy()\n",
        "# %timeit row_y.at[0, 'Profit'] = 0        ###> %timeit\n",
        "# print(row_y)\n",
        "# y = y.append(row_y, ignore_index=True)\n",
        "# print(y.head(), y.tail(), sep='\\n')"
      ],
      "execution_count": 0,
      "outputs": []
    },
    {
      "metadata": {
        "id": "US0nILn-3pXM",
        "colab_type": "code",
        "colab": {}
      },
      "cell_type": "code",
      "source": [
        "X = np.matrix(X.values)\n",
        "y = np.matrix(y.values)\n",
        "\n",
        "theta_0 = 0    #@param\n",
        "theta_1 = 0    #@param\n",
        "\n",
        "theta = np.matrix(np.array([theta_0, theta_1]))"
      ],
      "execution_count": 0,
      "outputs": []
    },
    {
      "metadata": {
        "id": "nNyWbGDi3s_a",
        "colab_type": "code",
        "outputId": "ada3f45c-7a15-488e-8166-e519913d9e4a",
        "colab": {
          "base_uri": "https://localhost:8080/",
          "height": 33
        }
      },
      "cell_type": "code",
      "source": [
        "theta"
      ],
      "execution_count": 511,
      "outputs": [
        {
          "output_type": "execute_result",
          "data": {
            "text/plain": [
              "matrix([[0, 0]])"
            ]
          },
          "metadata": {
            "tags": []
          },
          "execution_count": 511
        }
      ]
    },
    {
      "metadata": {
        "id": "X6j8BG-H3vY6",
        "colab_type": "code",
        "outputId": "9fa71172-de8a-470b-fd0a-950b5d539c1c",
        "colab": {
          "base_uri": "https://localhost:8080/",
          "height": 33
        }
      },
      "cell_type": "code",
      "source": [
        "X.shape, theta.shape, y.shape"
      ],
      "execution_count": 512,
      "outputs": [
        {
          "output_type": "execute_result",
          "data": {
            "text/plain": [
              "((97, 2), (1, 2), (97, 1))"
            ]
          },
          "metadata": {
            "tags": []
          },
          "execution_count": 512
        }
      ]
    },
    {
      "metadata": {
        "id": "UZTNa1HO3yqN",
        "colab_type": "code",
        "outputId": "8b05441f-fb20-481c-ae4c-5bb05807c828",
        "colab": {
          "base_uri": "https://localhost:8080/",
          "height": 33
        }
      },
      "cell_type": "code",
      "source": [
        "computeCost(X, y, theta)"
      ],
      "execution_count": 513,
      "outputs": [
        {
          "output_type": "execute_result",
          "data": {
            "text/plain": [
              "64.14546775491135"
            ]
          },
          "metadata": {
            "tags": []
          },
          "execution_count": 513
        }
      ]
    },
    {
      "metadata": {
        "id": "2PKoi2DJ31rG",
        "colab_type": "code",
        "colab": {}
      },
      "cell_type": "code",
      "source": [
        "def gradientDescent(X, y, theta, alpha, iters):\n",
        "    temp = np.matrix(np.zeros(theta.shape))\n",
        "    parameters = int(theta.ravel().shape[1])\n",
        "    cost = np.zeros(iters)\n",
        "    \n",
        "    for i in range(iters):\n",
        "        error = (X * theta.T) - y\n",
        "        for j in range(parameters):\n",
        "            term = np.multiply(error, X[:,j])\n",
        "            temp[0,j] = theta[0,j] - ((alpha / len(X)) * np.sum(term))\n",
        "            \n",
        "        theta = temp\n",
        "        cost[i] = computeCost(X, y, theta)\n",
        "        \n",
        "    return theta, cost"
      ],
      "execution_count": 0,
      "outputs": []
    },
    {
      "metadata": {
        "id": "YutRnsMS35FA",
        "colab_type": "code",
        "colab": {}
      },
      "cell_type": "code",
      "source": [
        "#@title Params\n",
        "alpha = 0.01 #@param {type:\"number\"}\n",
        "iters = 1000 #@param {type:\"integer\"}"
      ],
      "execution_count": 0,
      "outputs": []
    },
    {
      "metadata": {
        "id": "zLKRPA8l38sp",
        "colab_type": "code",
        "outputId": "5aa706ee-8565-4db8-d1b8-1ef5956b0d8a",
        "colab": {
          "base_uri": "https://localhost:8080/",
          "height": 33
        }
      },
      "cell_type": "code",
      "source": [
        "#@title Final theta (c, m) { vertical-output: true }\n",
        "g, cost = gradientDescent(X, y, theta, alpha, iters)\n",
        "g"
      ],
      "execution_count": 516,
      "outputs": [
        {
          "output_type": "execute_result",
          "data": {
            "text/plain": [
              "matrix([[-3.24140214,  1.1272942 ]])"
            ]
          },
          "metadata": {
            "tags": []
          },
          "execution_count": 516
        }
      ]
    },
    {
      "metadata": {
        "id": "gOiBirLy4AJ-",
        "colab_type": "code",
        "outputId": "bdcde667-4b25-4f33-8e5e-c783c2a0f317",
        "colab": {
          "base_uri": "https://localhost:8080/",
          "height": 33
        }
      },
      "cell_type": "code",
      "source": [
        "computeCost(X, y, g)"
      ],
      "execution_count": 517,
      "outputs": [
        {
          "output_type": "execute_result",
          "data": {
            "text/plain": [
              "9.031911006157824"
            ]
          },
          "metadata": {
            "tags": []
          },
          "execution_count": 517
        }
      ]
    },
    {
      "metadata": {
        "id": "YE10GLZt4DNG",
        "colab_type": "code",
        "outputId": "12b30ed1-2c91-42dd-e822-04fc7c26c6d3",
        "colab": {
          "base_uri": "https://localhost:8080/",
          "height": 528
        }
      },
      "cell_type": "code",
      "source": [
        "x = np.linspace(data.Population.min(), data.Population.max(), 100)\n",
        "f = g[0, 0] + (g[0, 1] * x)\n",
        "\n",
        "fig, ax = plt.subplots(figsize=(12,8))\n",
        "ax.plot(x, f, 'r', label='Prediction')\n",
        "ax.scatter(data.Population, data.Profit, label='Traning Data')\n",
        "ax.legend(loc=2)\n",
        "ax.set_xlabel('Population')\n",
        "ax.set_ylabel('Profit')\n",
        "ax.set_title('Predicted Profit vs. Population Size')"
      ],
      "execution_count": 518,
      "outputs": [
        {
          "output_type": "execute_result",
          "data": {
            "text/plain": [
              "Text(0.5,1,'Predicted Profit vs. Population Size')"
            ]
          },
          "metadata": {
            "tags": []
          },
          "execution_count": 518
        },
        {
          "output_type": "display_data",
          "data": {
            "image/png": "[encoded data removed]",
            "text/plain": [
              "<matplotlib.figure.Figure at 0x7f24bb625898>"
            ]
          },
          "metadata": {
            "tags": []
          }
        }
      ]
    },
    {
      "metadata": {
        "id": "9FttmSqa4WUx",
        "colab_type": "code",
        "outputId": "09b13231-ceaa-4d65-dbe6-bfb85d3cbaf9",
        "colab": {
          "base_uri": "https://localhost:8080/",
          "height": 528
        }
      },
      "cell_type": "code",
      "source": [
        "fig, ax = plt.subplots(figsize=(12,8))\n",
        "ax.plot(np.arange(iters), cost, 'r')\n",
        "ax.set_xlabel('Iterations')\n",
        "ax.set_ylabel('Cost')\n",
        "ax.set_title('Error vs. Training Epoch')"
      ],
      "execution_count": 519,
      "outputs": [
        {
          "output_type": "execute_result",
          "data": {
            "text/plain": [
              "Text(0.5,1,'Error vs. Training Epoch')"
            ]
          },
          "metadata": {
            "tags": []
          },
          "execution_count": 519
        },
        {
          "output_type": "display_data",
          "data": {
            "image/png": "[encoded data removed]",
            "text/plain": [
              "<matplotlib.figure.Figure at 0x7f24bb3b74a8>"
            ]
          },
          "metadata": {
            "tags": []
          }
        }
      ]
    },
    {
      "metadata": {
        "id": "4zQhuJFtbb5f",
        "colab_type": "text"
      },
      "cell_type": "markdown",
      "source": [
        "---\n",
        "# Data 2\n",
        "\n"
      ]
    },
    {
      "metadata": {
        "id": "75b-d9Dr4mKX",
        "colab_type": "code",
        "outputId": "9752c521-d478-4b70-c789-461d0e418757",
        "colab": {
          "base_uri": "https://localhost:8080/",
          "height": 197
        }
      },
      "cell_type": "code",
      "source": [
        "path = 'ipython-notebooks' + '/data/ex1data2.txt'\n",
        "data2 = pd.read_csv(path, header=None, names=['Size', 'Bedrooms', 'Price'])\n",
        "data2.head()"
      ],
      "execution_count": 520,
      "outputs": [
        {
          "output_type": "execute_result",
          "data": {
            "text/html": [
              "<div>\n",
              "<style scoped>\n",
              "    .dataframe tbody tr th:only-of-type {\n",
              "        vertical-align: middle;\n",
              "    }\n",
              "\n",
              "    .dataframe tbody tr th {\n",
              "        vertical-align: top;\n",
              "    }\n",
              "\n",
              "    .dataframe thead th {\n",
              "        text-align: right;\n",
              "    }\n",
              "</style>\n",
              "<table border=\"1\" class=\"dataframe\">\n",
              "  <thead>\n",
              "    <tr style=\"text-align: right;\">\n",
              "      <th></th>\n",
              "      <th>Size</th>\n",
              "      <th>Bedrooms</th>\n",
              "      <th>Price</th>\n",
              "    </tr>\n",
              "  </thead>\n",
              "  <tbody>\n",
              "    <tr>\n",
              "      <th>0</th>\n",
              "      <td>2104</td>\n",
              "      <td>3</td>\n",
              "      <td>399900</td>\n",
              "    </tr>\n",
              "    <tr>\n",
              "      <th>1</th>\n",
              "      <td>1600</td>\n",
              "      <td>3</td>\n",
              "      <td>329900</td>\n",
              "    </tr>\n",
              "    <tr>\n",
              "      <th>2</th>\n",
              "      <td>2400</td>\n",
              "      <td>3</td>\n",
              "      <td>369000</td>\n",
              "    </tr>\n",
              "    <tr>\n",
              "      <th>3</th>\n",
              "      <td>1416</td>\n",
              "      <td>2</td>\n",
              "      <td>232000</td>\n",
              "    </tr>\n",
              "    <tr>\n",
              "      <th>4</th>\n",
              "      <td>3000</td>\n",
              "      <td>4</td>\n",
              "      <td>539900</td>\n",
              "    </tr>\n",
              "  </tbody>\n",
              "</table>\n",
              "</div>"
            ],
            "text/plain": [
              "   Size  Bedrooms   Price\n",
              "0  2104         3  399900\n",
              "1  1600         3  329900\n",
              "2  2400         3  369000\n",
              "3  1416         2  232000\n",
              "4  3000         4  539900"
            ]
          },
          "metadata": {
            "tags": []
          },
          "execution_count": 520
        }
      ]
    },
    {
      "metadata": {
        "id": "ydMkw-NM41TJ",
        "colab_type": "code",
        "outputId": "a440c190-59c5-47df-91f9-38bd2c88ee5c",
        "colab": {
          "base_uri": "https://localhost:8080/",
          "height": 197
        }
      },
      "cell_type": "code",
      "source": [
        "data2 = (data2 - data2.mean()) / data2.std()\n",
        "data2.head()"
      ],
      "execution_count": 521,
      "outputs": [
        {
          "output_type": "execute_result",
          "data": {
            "text/html": [
              "<div>\n",
              "<style scoped>\n",
              "    .dataframe tbody tr th:only-of-type {\n",
              "        vertical-align: middle;\n",
              "    }\n",
              "\n",
              "    .dataframe tbody tr th {\n",
              "        vertical-align: top;\n",
              "    }\n",
              "\n",
              "    .dataframe thead th {\n",
              "        text-align: right;\n",
              "    }\n",
              "</style>\n",
              "<table border=\"1\" class=\"dataframe\">\n",
              "  <thead>\n",
              "    <tr style=\"text-align: right;\">\n",
              "      <th></th>\n",
              "      <th>Size</th>\n",
              "      <th>Bedrooms</th>\n",
              "      <th>Price</th>\n",
              "    </tr>\n",
              "  </thead>\n",
              "  <tbody>\n",
              "    <tr>\n",
              "      <th>0</th>\n",
              "      <td>0.130010</td>\n",
              "      <td>-0.223675</td>\n",
              "      <td>0.475747</td>\n",
              "    </tr>\n",
              "    <tr>\n",
              "      <th>1</th>\n",
              "      <td>-0.504190</td>\n",
              "      <td>-0.223675</td>\n",
              "      <td>-0.084074</td>\n",
              "    </tr>\n",
              "    <tr>\n",
              "      <th>2</th>\n",
              "      <td>0.502476</td>\n",
              "      <td>-0.223675</td>\n",
              "      <td>0.228626</td>\n",
              "    </tr>\n",
              "    <tr>\n",
              "      <th>3</th>\n",
              "      <td>-0.735723</td>\n",
              "      <td>-1.537767</td>\n",
              "      <td>-0.867025</td>\n",
              "    </tr>\n",
              "    <tr>\n",
              "      <th>4</th>\n",
              "      <td>1.257476</td>\n",
              "      <td>1.090417</td>\n",
              "      <td>1.595389</td>\n",
              "    </tr>\n",
              "  </tbody>\n",
              "</table>\n",
              "</div>"
            ],
            "text/plain": [
              "       Size  Bedrooms     Price\n",
              "0  0.130010 -0.223675  0.475747\n",
              "1 -0.504190 -0.223675 -0.084074\n",
              "2  0.502476 -0.223675  0.228626\n",
              "3 -0.735723 -1.537767 -0.867025\n",
              "4  1.257476  1.090417  1.595389"
            ]
          },
          "metadata": {
            "tags": []
          },
          "execution_count": 521
        }
      ]
    },
    {
      "metadata": {
        "id": "95k3jM8l43Fm",
        "colab_type": "code",
        "outputId": "0814e020-baec-46a3-f846-61050b0a0e85",
        "colab": {
          "base_uri": "https://localhost:8080/",
          "height": 33
        }
      },
      "cell_type": "code",
      "source": [
        "# add ones column\n",
        "data2.insert(0, 'Ones', 1)\n",
        "\n",
        "# set X (training data) and y (target variable)\n",
        "cols = data2.shape[1]\n",
        "X2 = data2.iloc[:,0:cols-1]\n",
        "y2 = data2.iloc[:,cols-1:cols]\n",
        "\n",
        "# convert to matrices and initialize theta\n",
        "X2 = np.matrix(X2.values)\n",
        "y2 = np.matrix(y2.values)\n",
        "theta2 = np.matrix(np.array([0,0,0]))\n",
        "\n",
        "# perform linear regression on the data set\n",
        "g2, cost2 = gradientDescent(X2, y2, theta2, alpha, iters)\n",
        "\n",
        "# get the cost (error) of the model\n",
        "computeCost(X2, y2, g2)"
      ],
      "execution_count": 522,
      "outputs": [
        {
          "output_type": "execute_result",
          "data": {
            "text/plain": [
              "0.26140673921543783"
            ]
          },
          "metadata": {
            "tags": []
          },
          "execution_count": 522
        }
      ]
    },
    {
      "metadata": {
        "id": "xJINFQ_j4_RU",
        "colab_type": "code",
        "outputId": "e59ca48b-703f-415b-d009-c29cc3af776f",
        "colab": {
          "base_uri": "https://localhost:8080/",
          "height": 528
        }
      },
      "cell_type": "code",
      "source": [
        "fig, ax = plt.subplots(figsize=(12,8))\n",
        "ax.plot(np.arange(iters), cost2, 'r')\n",
        "ax.set_xlabel('Iterations')\n",
        "ax.set_ylabel('Cost')\n",
        "ax.set_title('Error vs. Training Epoch')"
      ],
      "execution_count": 523,
      "outputs": [
        {
          "output_type": "execute_result",
          "data": {
            "text/plain": [
              "Text(0.5,1,'Error vs. Training Epoch')"
            ]
          },
          "metadata": {
            "tags": []
          },
          "execution_count": 523
        },
        {
          "output_type": "display_data",
          "data": {
            "image/png": "[encoded data removed]",
            "text/plain": [
              "<matplotlib.figure.Figure at 0x7f24bb386278>"
            ]
          },
          "metadata": {
            "tags": []
          }
        }
      ]
    },
    {
      "metadata": {
        "id": "qWYZGy-Cbzyk",
        "colab_type": "text"
      },
      "cell_type": "markdown",
      "source": [
        "# sklearn"
      ]
    },
    {
      "metadata": {
        "id": "TkR-fniN4_37",
        "colab_type": "code",
        "colab": {}
      },
      "cell_type": "code",
      "source": [
        "from sklearn import linear_model\n",
        "model = linear_model.LinearRegression()\n",
        "model = model.fit(X, y)"
      ],
      "execution_count": 0,
      "outputs": []
    },
    {
      "metadata": {
        "id": "Y7MOZ2TOZMie",
        "colab_type": "code",
        "colab": {
          "base_uri": "https://localhost:8080/",
          "height": 1633
        },
        "outputId": "502c1b7c-2588-4360-b0dd-081c3e37b635"
      },
      "cell_type": "code",
      "source": [
        "X"
      ],
      "execution_count": 525,
      "outputs": [
        {
          "output_type": "execute_result",
          "data": {
            "text/plain": [
              "matrix([[ 1.    ,  6.1101],\n",
              "        [ 1.    ,  5.5277],\n",
              "        [ 1.    ,  8.5186],\n",
              "        [ 1.    ,  7.0032],\n",
              "        [ 1.    ,  5.8598],\n",
              "        [ 1.    ,  8.3829],\n",
              "        [ 1.    ,  7.4764],\n",
              "        [ 1.    ,  8.5781],\n",
              "        [ 1.    ,  6.4862],\n",
              "        [ 1.    ,  5.0546],\n",
              "        [ 1.    ,  5.7107],\n",
              "        [ 1.    , 14.164 ],\n",
              "        [ 1.    ,  5.734 ],\n",
              "        [ 1.    ,  8.4084],\n",
              "        [ 1.    ,  5.6407],\n",
              "        [ 1.    ,  5.3794],\n",
              "        [ 1.    ,  6.3654],\n",
              "        [ 1.    ,  5.1301],\n",
              "        [ 1.    ,  6.4296],\n",
              "        [ 1.    ,  7.0708],\n",
              "        [ 1.    ,  6.1891],\n",
              "        [ 1.    , 20.27  ],\n",
              "        [ 1.    ,  5.4901],\n",
              "        [ 1.    ,  6.3261],\n",
              "        [ 1.    ,  5.5649],\n",
              "        [ 1.    , 18.945 ],\n",
              "        [ 1.    , 12.828 ],\n",
              "        [ 1.    , 10.957 ],\n",
              "        [ 1.    , 13.176 ],\n",
              "        [ 1.    , 22.203 ],\n",
              "        [ 1.    ,  5.2524],\n",
              "        [ 1.    ,  6.5894],\n",
              "        [ 1.    ,  9.2482],\n",
              "        [ 1.    ,  5.8918],\n",
              "        [ 1.    ,  8.2111],\n",
              "        [ 1.    ,  7.9334],\n",
              "        [ 1.    ,  8.0959],\n",
              "        [ 1.    ,  5.6063],\n",
              "        [ 1.    , 12.836 ],\n",
              "        [ 1.    ,  6.3534],\n",
              "        [ 1.    ,  5.4069],\n",
              "        [ 1.    ,  6.8825],\n",
              "        [ 1.    , 11.708 ],\n",
              "        [ 1.    ,  5.7737],\n",
              "        [ 1.    ,  7.8247],\n",
              "        [ 1.    ,  7.0931],\n",
              "        [ 1.    ,  5.0702],\n",
              "        [ 1.    ,  5.8014],\n",
              "        [ 1.    , 11.7   ],\n",
              "        [ 1.    ,  5.5416],\n",
              "        [ 1.    ,  7.5402],\n",
              "        [ 1.    ,  5.3077],\n",
              "        [ 1.    ,  7.4239],\n",
              "        [ 1.    ,  7.6031],\n",
              "        [ 1.    ,  6.3328],\n",
              "        [ 1.    ,  6.3589],\n",
              "        [ 1.    ,  6.2742],\n",
              "        [ 1.    ,  5.6397],\n",
              "        [ 1.    ,  9.3102],\n",
              "        [ 1.    ,  9.4536],\n",
              "        [ 1.    ,  8.8254],\n",
              "        [ 1.    ,  5.1793],\n",
              "        [ 1.    , 21.279 ],\n",
              "        [ 1.    , 14.908 ],\n",
              "        [ 1.    , 18.959 ],\n",
              "        [ 1.    ,  7.2182],\n",
              "        [ 1.    ,  8.2951],\n",
              "        [ 1.    , 10.236 ],\n",
              "        [ 1.    ,  5.4994],\n",
              "        [ 1.    , 20.341 ],\n",
              "        [ 1.    , 10.136 ],\n",
              "        [ 1.    ,  7.3345],\n",
              "        [ 1.    ,  6.0062],\n",
              "        [ 1.    ,  7.2259],\n",
              "        [ 1.    ,  5.0269],\n",
              "        [ 1.    ,  6.5479],\n",
              "        [ 1.    ,  7.5386],\n",
              "        [ 1.    ,  5.0365],\n",
              "        [ 1.    , 10.274 ],\n",
              "        [ 1.    ,  5.1077],\n",
              "        [ 1.    ,  5.7292],\n",
              "        [ 1.    ,  5.1884],\n",
              "        [ 1.    ,  6.3557],\n",
              "        [ 1.    ,  9.7687],\n",
              "        [ 1.    ,  6.5159],\n",
              "        [ 1.    ,  8.5172],\n",
              "        [ 1.    ,  9.1802],\n",
              "        [ 1.    ,  6.002 ],\n",
              "        [ 1.    ,  5.5204],\n",
              "        [ 1.    ,  5.0594],\n",
              "        [ 1.    ,  5.7077],\n",
              "        [ 1.    ,  7.6366],\n",
              "        [ 1.    ,  5.8707],\n",
              "        [ 1.    ,  5.3054],\n",
              "        [ 1.    ,  8.2934],\n",
              "        [ 1.    , 13.394 ],\n",
              "        [ 1.    ,  5.4369]])"
            ]
          },
          "metadata": {
            "tags": []
          },
          "execution_count": 525
        }
      ]
    },
    {
      "metadata": {
        "id": "mYsQSJ711two",
        "colab_type": "code",
        "colab": {
          "base_uri": "https://localhost:8080/",
          "height": 33
        },
        "outputId": "4881ba91-63ea-4364-cf71-8f55ea8f89fe"
      },
      "cell_type": "code",
      "source": [
        "#@title (0, m) { vertical-output: true }\n",
        "model.coef_        ##??? What is 0 in the output?"
      ],
      "execution_count": 526,
      "outputs": [
        {
          "output_type": "execute_result",
          "data": {
            "text/plain": [
              "array([[0.        , 1.19303364]])"
            ]
          },
          "metadata": {
            "tags": []
          },
          "execution_count": 526
        }
      ]
    },
    {
      "metadata": {
        "id": "pyagfeWXNBu5",
        "colab_type": "code",
        "colab": {
          "base_uri": "https://localhost:8080/",
          "height": 33
        },
        "outputId": "845c5305-00b8-4153-95ae-af9069791967"
      },
      "cell_type": "code",
      "source": [
        "#@title c { vertical-output: true }\n",
        "model.intercept_"
      ],
      "execution_count": 527,
      "outputs": [
        {
          "output_type": "execute_result",
          "data": {
            "text/plain": [
              "array([-3.89578088])"
            ]
          },
          "metadata": {
            "tags": []
          },
          "execution_count": 527
        }
      ]
    },
    {
      "metadata": {
        "id": "JM0Z0PV53j-9",
        "colab_type": "code",
        "colab": {
          "base_uri": "https://localhost:8080/",
          "height": 33
        },
        "outputId": "674464ce-c234-4927-ae81-746e29e10e1b"
      },
      "cell_type": "code",
      "source": [
        "model.score(X, y)"
      ],
      "execution_count": 528,
      "outputs": [
        {
          "output_type": "execute_result",
          "data": {
            "text/plain": [
              "0.7020315537841397"
            ]
          },
          "metadata": {
            "tags": []
          },
          "execution_count": 528
        }
      ]
    },
    {
      "metadata": {
        "id": "196ud0sY5F1V",
        "colab_type": "code",
        "outputId": "a0adc9e1-ee7e-4b56-9abd-7116ad6bc1d0",
        "colab": {
          "base_uri": "https://localhost:8080/",
          "height": 528
        }
      },
      "cell_type": "code",
      "source": [
        "x = np.array(X[:, 1].A1)\n",
        "f = model.predict(X).flatten()\n",
        "\n",
        "fig, ax = plt.subplots(figsize=(12,8))\n",
        "ax.plot(x, f, 'r', label='Prediction')\n",
        "ax.scatter(data.Population, data.Profit, label='Traning Data')\n",
        "ax.legend(loc=2)\n",
        "ax.set_xlabel('Population')\n",
        "ax.set_ylabel('Profit')\n",
        "ax.set_title('Predicted Profit vs. Population Size')"
      ],
      "execution_count": 529,
      "outputs": [
        {
          "output_type": "execute_result",
          "data": {
            "text/plain": [
              "Text(0.5,1,'Predicted Profit vs. Population Size')"
            ]
          },
          "metadata": {
            "tags": []
          },
          "execution_count": 529
        },
        {
          "output_type": "display_data",
          "data": {
            "image/png": "[encoded data removed]",
            "text/plain": [
              "<matplotlib.figure.Figure at 0x7f24bb2d3ba8>"
            ]
          },
          "metadata": {
            "tags": []
          }
        }
      ]
    }
  ]
}